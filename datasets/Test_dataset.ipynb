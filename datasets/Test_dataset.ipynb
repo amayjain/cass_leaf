{
 "cells": [
  {
   "cell_type": "code",
   "execution_count": 3,
   "metadata": {},
   "outputs": [],
   "source": [
    "import torch\n",
    "import torchvision.transforms as transforms \n",
    "import pandas as pd\n",
    "from PIL import Image"
   ]
  },
  {
   "cell_type": "code",
   "execution_count": 4,
   "metadata": {},
   "outputs": [],
   "source": [
    "class StartingDataset(torch.utils.data.Dataset):\n",
    "    def __init__(self, df_path=\"cass_data/train.csv\", img_path=\"cass_data/train_images\", train=True):\n",
    "        df = pd.read_csv(df_path).sample(frac = 1, random_state=42).reset_index(drop=True)\n",
    "\n",
    "        train_percentage = 0.8\n",
    "        rows = df.shape[0]\n",
    "        train_rows = int(rows * train_percentage)\n",
    "\n",
    "        if train:\n",
    "            self.df = df.iloc[:train_rows]\n",
    "        else:\n",
    "            self.df = df.iloc[train_rows:]\n",
    "        \n",
    "        self.df = self.df.reset_index(drop=True)\n",
    "\n",
    "        self.img_path = img_path\n",
    "\n",
    "        self.transforms = transforms.Compose([\n",
    "            transforms.Resize((224,224)),\n",
    "            transforms.ToTensor(),\n",
    "        ])\n",
    "\n",
    "    def __getitem__(self, index):\n",
    "        jpg_str = str(self.df.loc[index]['image_id'])\n",
    "        label = self.df.loc[index]['label']\n",
    "\n",
    "        with Image.open(f\"{self.img_path}/{jpg_str}\") as im:\n",
    "            im = self.transforms(im)\n",
    "\n",
    "        print(\"label:\", label)\n",
    "        return im, label\n",
    "\n",
    "    def __len__(self):\n",
    "        return len(self.df)"
   ]
  },
  {
   "cell_type": "code",
   "execution_count": 5,
   "metadata": {},
   "outputs": [],
   "source": [
    "df_path = \"../cass_data/train.csv\"\n",
    "img_path = \"../cass_data/train_images\""
   ]
  },
  {
   "cell_type": "code",
   "execution_count": 6,
   "metadata": {},
   "outputs": [],
   "source": [
    "train = StartingDataset(df_path=df_path, img_path=img_path, train=False)"
   ]
  },
  {
   "cell_type": "code",
   "execution_count": 7,
   "metadata": {},
   "outputs": [
    {
     "data": {
      "text/plain": [
       "4280"
      ]
     },
     "execution_count": 7,
     "metadata": {},
     "output_type": "execute_result"
    }
   ],
   "source": [
    "len(train)"
   ]
  },
  {
   "cell_type": "code",
   "execution_count": 8,
   "metadata": {},
   "outputs": [
    {
     "data": {
      "text/html": [
       "<div>\n",
       "<style scoped>\n",
       "    .dataframe tbody tr th:only-of-type {\n",
       "        vertical-align: middle;\n",
       "    }\n",
       "\n",
       "    .dataframe tbody tr th {\n",
       "        vertical-align: top;\n",
       "    }\n",
       "\n",
       "    .dataframe thead th {\n",
       "        text-align: right;\n",
       "    }\n",
       "</style>\n",
       "<table border=\"1\" class=\"dataframe\">\n",
       "  <thead>\n",
       "    <tr style=\"text-align: right;\">\n",
       "      <th></th>\n",
       "      <th>image_id</th>\n",
       "      <th>label</th>\n",
       "    </tr>\n",
       "  </thead>\n",
       "  <tbody>\n",
       "    <tr>\n",
       "      <th>0</th>\n",
       "      <td>2824543301.jpg</td>\n",
       "      <td>3</td>\n",
       "    </tr>\n",
       "    <tr>\n",
       "      <th>1</th>\n",
       "      <td>184909120.jpg</td>\n",
       "      <td>3</td>\n",
       "    </tr>\n",
       "    <tr>\n",
       "      <th>2</th>\n",
       "      <td>2602456265.jpg</td>\n",
       "      <td>3</td>\n",
       "    </tr>\n",
       "    <tr>\n",
       "      <th>3</th>\n",
       "      <td>1331491784.jpg</td>\n",
       "      <td>3</td>\n",
       "    </tr>\n",
       "    <tr>\n",
       "      <th>4</th>\n",
       "      <td>414363375.jpg</td>\n",
       "      <td>3</td>\n",
       "    </tr>\n",
       "  </tbody>\n",
       "</table>\n",
       "</div>"
      ],
      "text/plain": [
       "         image_id  label\n",
       "0  2824543301.jpg      3\n",
       "1   184909120.jpg      3\n",
       "2  2602456265.jpg      3\n",
       "3  1331491784.jpg      3\n",
       "4   414363375.jpg      3"
      ]
     },
     "execution_count": 8,
     "metadata": {},
     "output_type": "execute_result"
    }
   ],
   "source": [
    "train.df.head()"
   ]
  },
  {
   "cell_type": "code",
   "execution_count": 9,
   "metadata": {},
   "outputs": [
    {
     "name": "stdout",
     "output_type": "stream",
     "text": [
      "label: 3\n"
     ]
    },
    {
     "data": {
      "text/plain": [
       "(tensor([[[0.1961, 0.1765, 0.1216,  ..., 0.2431, 0.3412, 0.4471],\n",
       "          [0.1490, 0.1137, 0.1020,  ..., 0.1961, 0.3294, 0.5569],\n",
       "          [0.1490, 0.1451, 0.1216,  ..., 0.1882, 0.3333, 0.4902],\n",
       "          ...,\n",
       "          [0.0196, 0.0353, 0.0588,  ..., 0.2745, 0.1725, 0.0745],\n",
       "          [0.0196, 0.0353, 0.0667,  ..., 0.3529, 0.3137, 0.2039],\n",
       "          [0.0196, 0.0353, 0.0588,  ..., 0.4549, 0.2980, 0.4353]],\n",
       " \n",
       "         [[0.1529, 0.1333, 0.0863,  ..., 0.1725, 0.2667, 0.3686],\n",
       "          [0.0902, 0.0588, 0.0471,  ..., 0.1255, 0.2588, 0.4824],\n",
       "          [0.0784, 0.0784, 0.0627,  ..., 0.1176, 0.2627, 0.4157],\n",
       "          ...,\n",
       "          [0.0157, 0.0314, 0.0549,  ..., 0.2275, 0.1255, 0.0431],\n",
       "          [0.0157, 0.0314, 0.0627,  ..., 0.3020, 0.2627, 0.1686],\n",
       "          [0.0157, 0.0314, 0.0549,  ..., 0.4039, 0.2471, 0.4000]],\n",
       " \n",
       "         [[0.0627, 0.0784, 0.0431,  ..., 0.1176, 0.2039, 0.2784],\n",
       "          [0.0549, 0.0471, 0.0471,  ..., 0.0706, 0.1843, 0.3765],\n",
       "          [0.0549, 0.0667, 0.0549,  ..., 0.0588, 0.1725, 0.2980],\n",
       "          ...,\n",
       "          [0.0078, 0.0235, 0.0471,  ..., 0.1843, 0.0980, 0.0196],\n",
       "          [0.0078, 0.0235, 0.0549,  ..., 0.2667, 0.2353, 0.1333],\n",
       "          [0.0078, 0.0235, 0.0471,  ..., 0.3765, 0.2235, 0.3529]]]),\n",
       " 3)"
      ]
     },
     "execution_count": 9,
     "metadata": {},
     "output_type": "execute_result"
    }
   ],
   "source": [
    "train[30]"
   ]
  },
  {
   "cell_type": "code",
   "execution_count": null,
   "metadata": {},
   "outputs": [],
   "source": []
  }
 ],
 "metadata": {
  "kernelspec": {
   "display_name": "Python 3",
   "language": "python",
   "name": "python3"
  },
  "language_info": {
   "codemirror_mode": {
    "name": "ipython",
    "version": 3
   },
   "file_extension": ".py",
   "mimetype": "text/x-python",
   "name": "python",
   "nbconvert_exporter": "python",
   "pygments_lexer": "ipython3",
   "version": "3.8.5"
  }
 },
 "nbformat": 4,
 "nbformat_minor": 5
}
